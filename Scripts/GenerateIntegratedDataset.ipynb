{
 "cells": [
  {
   "cell_type": "code",
   "execution_count": 1,
   "id": "e44a7fc4-ab9f-482d-94af-a01630f79b04",
   "metadata": {},
   "outputs": [],
   "source": [
    "import pandas as pd\n",
    "import numpy as np\n",
    "import matplotlib.pyplot as plt \n",
    "import seaborn as sns\n",
    "from collections import Counter"
   ]
  },
  {
   "cell_type": "code",
   "execution_count": 42,
   "id": "22c03df1-a8ec-4c01-9a1a-4944cc1c8f5e",
   "metadata": {},
   "outputs": [],
   "source": [
    "df = pd.read_csv(\"./Service_request.csv\",dtype ={41:str},low_memory=False)"
   ]
  },
  {
   "cell_type": "markdown",
   "id": "7bd556e0-b0f0-434a-9494-e5afc66558ac",
   "metadata": {},
   "source": [
    "#### Original dataFrame"
   ]
  },
  {
   "cell_type": "code",
   "execution_count": 44,
   "id": "347c714a-aefa-4276-8689-fc9f69d15919",
   "metadata": {},
   "outputs": [
    {
     "data": {
      "text/html": [
       "<div>\n",
       "<style scoped>\n",
       "    .dataframe tbody tr th:only-of-type {\n",
       "        vertical-align: middle;\n",
       "    }\n",
       "\n",
       "    .dataframe tbody tr th {\n",
       "        vertical-align: top;\n",
       "    }\n",
       "\n",
       "    .dataframe thead th {\n",
       "        text-align: right;\n",
       "    }\n",
       "</style>\n",
       "<table border=\"1\" class=\"dataframe\">\n",
       "  <thead>\n",
       "    <tr style=\"text-align: right;\">\n",
       "      <th></th>\n",
       "      <th>Unique Key</th>\n",
       "      <th>Created Date</th>\n",
       "      <th>Closed Date</th>\n",
       "      <th>Agency</th>\n",
       "      <th>Agency Name</th>\n",
       "      <th>Complaint Type</th>\n",
       "      <th>Descriptor</th>\n",
       "      <th>Location Type</th>\n",
       "      <th>Incident Zip</th>\n",
       "      <th>Incident Address</th>\n",
       "      <th>...</th>\n",
       "      <th>Road Ramp</th>\n",
       "      <th>Bridge Highway Segment</th>\n",
       "      <th>Latitude</th>\n",
       "      <th>Longitude</th>\n",
       "      <th>Location</th>\n",
       "      <th>Zip Codes</th>\n",
       "      <th>Community Districts</th>\n",
       "      <th>Borough Boundaries</th>\n",
       "      <th>City Council Districts</th>\n",
       "      <th>Police Precincts</th>\n",
       "    </tr>\n",
       "  </thead>\n",
       "  <tbody>\n",
       "    <tr>\n",
       "      <th>0</th>\n",
       "      <td>57253155</td>\n",
       "      <td>04/08/2023 12:00:00 PM</td>\n",
       "      <td>NaN</td>\n",
       "      <td>DSNY</td>\n",
       "      <td>Department of Sanitation</td>\n",
       "      <td>Derelict Vehicles</td>\n",
       "      <td>Derelict Vehicles</td>\n",
       "      <td>Street</td>\n",
       "      <td>11433</td>\n",
       "      <td>111-02 160 STREET</td>\n",
       "      <td>...</td>\n",
       "      <td>NaN</td>\n",
       "      <td>NaN</td>\n",
       "      <td>40.690845</td>\n",
       "      <td>-73.789726</td>\n",
       "      <td>(40.69084533757663, -73.78972563627649)</td>\n",
       "      <td>24668</td>\n",
       "      <td>41.0</td>\n",
       "      <td>3.0</td>\n",
       "      <td>46.0</td>\n",
       "      <td>71.0</td>\n",
       "    </tr>\n",
       "    <tr>\n",
       "      <th>1</th>\n",
       "      <td>57257588</td>\n",
       "      <td>04/08/2023 01:18:48 AM</td>\n",
       "      <td>NaN</td>\n",
       "      <td>DSNY</td>\n",
       "      <td>Department of Sanitation</td>\n",
       "      <td>Graffiti</td>\n",
       "      <td>Graffiti</td>\n",
       "      <td>Mixed Use</td>\n",
       "      <td>10011</td>\n",
       "      <td>162 WEST   13 STREET</td>\n",
       "      <td>...</td>\n",
       "      <td>NaN</td>\n",
       "      <td>NaN</td>\n",
       "      <td>40.737372</td>\n",
       "      <td>-73.999029</td>\n",
       "      <td>(40.737371751212834, -73.99902932027611)</td>\n",
       "      <td>12074</td>\n",
       "      <td>57.0</td>\n",
       "      <td>4.0</td>\n",
       "      <td>10.0</td>\n",
       "      <td>3.0</td>\n",
       "    </tr>\n",
       "    <tr>\n",
       "      <th>2</th>\n",
       "      <td>57251441</td>\n",
       "      <td>04/08/2023 12:21:00 AM</td>\n",
       "      <td>NaN</td>\n",
       "      <td>DOT</td>\n",
       "      <td>Department of Transportation</td>\n",
       "      <td>Traffic Signal Condition</td>\n",
       "      <td>Pedestrian Signal</td>\n",
       "      <td>NaN</td>\n",
       "      <td>11101</td>\n",
       "      <td>NaN</td>\n",
       "      <td>...</td>\n",
       "      <td>NaN</td>\n",
       "      <td>NaN</td>\n",
       "      <td>40.755233</td>\n",
       "      <td>-73.941238</td>\n",
       "      <td>(40.755233318745795, -73.94123827336074)</td>\n",
       "      <td>16858</td>\n",
       "      <td>39.0</td>\n",
       "      <td>3.0</td>\n",
       "      <td>33.0</td>\n",
       "      <td>72.0</td>\n",
       "    </tr>\n",
       "    <tr>\n",
       "      <th>3</th>\n",
       "      <td>57251434</td>\n",
       "      <td>04/08/2023 12:01:00 AM</td>\n",
       "      <td>NaN</td>\n",
       "      <td>DOT</td>\n",
       "      <td>Department of Transportation</td>\n",
       "      <td>Traffic Signal Condition</td>\n",
       "      <td>Controller</td>\n",
       "      <td>NaN</td>\n",
       "      <td>11220</td>\n",
       "      <td>NaN</td>\n",
       "      <td>...</td>\n",
       "      <td>NaN</td>\n",
       "      <td>NaN</td>\n",
       "      <td>40.639321</td>\n",
       "      <td>-74.023550</td>\n",
       "      <td>(40.63932066833335, -74.02355033576893)</td>\n",
       "      <td>18180</td>\n",
       "      <td>10.0</td>\n",
       "      <td>2.0</td>\n",
       "      <td>7.0</td>\n",
       "      <td>41.0</td>\n",
       "    </tr>\n",
       "    <tr>\n",
       "      <th>4</th>\n",
       "      <td>57250915</td>\n",
       "      <td>04/08/2023 12:00:00 AM</td>\n",
       "      <td>04/08/2023 12:30:00 AM</td>\n",
       "      <td>DOT</td>\n",
       "      <td>Department of Transportation</td>\n",
       "      <td>Traffic Signal Condition</td>\n",
       "      <td>LED Lense</td>\n",
       "      <td>NaN</td>\n",
       "      <td>10023</td>\n",
       "      <td>NaN</td>\n",
       "      <td>...</td>\n",
       "      <td>NaN</td>\n",
       "      <td>NaN</td>\n",
       "      <td>40.778096</td>\n",
       "      <td>-73.978293</td>\n",
       "      <td>(40.77809623035551, -73.97829258153799)</td>\n",
       "      <td>12420</td>\n",
       "      <td>20.0</td>\n",
       "      <td>4.0</td>\n",
       "      <td>19.0</td>\n",
       "      <td>12.0</td>\n",
       "    </tr>\n",
       "  </tbody>\n",
       "</table>\n",
       "<p>5 rows × 46 columns</p>\n",
       "</div>"
      ],
      "text/plain": [
       "   Unique Key            Created Date             Closed Date Agency  \\\n",
       "0    57253155  04/08/2023 12:00:00 PM                     NaN   DSNY   \n",
       "1    57257588  04/08/2023 01:18:48 AM                     NaN   DSNY   \n",
       "2    57251441  04/08/2023 12:21:00 AM                     NaN    DOT   \n",
       "3    57251434  04/08/2023 12:01:00 AM                     NaN    DOT   \n",
       "4    57250915  04/08/2023 12:00:00 AM  04/08/2023 12:30:00 AM    DOT   \n",
       "\n",
       "                    Agency Name            Complaint Type         Descriptor  \\\n",
       "0      Department of Sanitation         Derelict Vehicles  Derelict Vehicles   \n",
       "1      Department of Sanitation                  Graffiti           Graffiti   \n",
       "2  Department of Transportation  Traffic Signal Condition  Pedestrian Signal   \n",
       "3  Department of Transportation  Traffic Signal Condition         Controller   \n",
       "4  Department of Transportation  Traffic Signal Condition          LED Lense   \n",
       "\n",
       "  Location Type Incident Zip      Incident Address  ... Road Ramp  \\\n",
       "0        Street        11433     111-02 160 STREET  ...       NaN   \n",
       "1     Mixed Use        10011  162 WEST   13 STREET  ...       NaN   \n",
       "2           NaN        11101                   NaN  ...       NaN   \n",
       "3           NaN        11220                   NaN  ...       NaN   \n",
       "4           NaN        10023                   NaN  ...       NaN   \n",
       "\n",
       "  Bridge Highway Segment   Latitude  Longitude  \\\n",
       "0                    NaN  40.690845 -73.789726   \n",
       "1                    NaN  40.737372 -73.999029   \n",
       "2                    NaN  40.755233 -73.941238   \n",
       "3                    NaN  40.639321 -74.023550   \n",
       "4                    NaN  40.778096 -73.978293   \n",
       "\n",
       "                                   Location Zip Codes Community Districts  \\\n",
       "0   (40.69084533757663, -73.78972563627649)     24668                41.0   \n",
       "1  (40.737371751212834, -73.99902932027611)     12074                57.0   \n",
       "2  (40.755233318745795, -73.94123827336074)     16858                39.0   \n",
       "3   (40.63932066833335, -74.02355033576893)     18180                10.0   \n",
       "4   (40.77809623035551, -73.97829258153799)     12420                20.0   \n",
       "\n",
       "  Borough Boundaries City Council Districts Police Precincts  \n",
       "0                3.0                   46.0             71.0  \n",
       "1                4.0                   10.0              3.0  \n",
       "2                3.0                   33.0             72.0  \n",
       "3                2.0                    7.0             41.0  \n",
       "4                4.0                   19.0             12.0  \n",
       "\n",
       "[5 rows x 46 columns]"
      ]
     },
     "execution_count": 44,
     "metadata": {},
     "output_type": "execute_result"
    }
   ],
   "source": [
    "df.head()"
   ]
  },
  {
   "cell_type": "code",
   "execution_count": 45,
   "id": "18c90a91-0f4d-4c2d-bd93-0ecd5be5b30c",
   "metadata": {
    "tags": []
   },
   "outputs": [],
   "source": [
    "# Removing the Unique Key attribute\n",
    "dropFeature = [\"Agency\",\"Address Type\",\"Unique Key\",\"Closed Date\",\"Incident Address\",\"Cross Street 1\",\"Cross Street 2\",\"Intersection Street 1\",\"Intersection Street 2\",\"Facility Type\",\"Status\",\"Due Date\",\"Resolution Description\",\"Resolution Action Updated Date\",\"Community Board\",\"BBL\",\"Borough\",\"X Coordinate (State Plane)\",\"Y Coordinate (State Plane)\",\"Open Data Channel Type\",\"Park Facility Name\",\"Park Borough\",\"Taxi Company Borough\",\"Taxi Pick Up Location\",\"Bridge Highway Name\",\"Bridge Highway Direction\",\"Road Ramp\",\"Bridge Highway Segment\",\"Latitude\",\"Longitude\",\"Location\",\"Community Districts\",\"Borough Boundaries\",\"City Council Districts\",\"Police Precincts\",\"Incident Zip\"]\n",
    "for feature in dropFeature:\n",
    "    df.pop(feature)"
   ]
  },
  {
   "cell_type": "markdown",
   "id": "adfb41c2-19cb-47d6-8a44-8da3a439e817",
   "metadata": {},
   "source": [
    "#### Updated dataFrame"
   ]
  },
  {
   "cell_type": "code",
   "execution_count": 46,
   "id": "cdb50063-afd0-4be4-8228-19fff7128de3",
   "metadata": {
    "tags": []
   },
   "outputs": [
    {
     "data": {
      "text/html": [
       "<div>\n",
       "<style scoped>\n",
       "    .dataframe tbody tr th:only-of-type {\n",
       "        vertical-align: middle;\n",
       "    }\n",
       "\n",
       "    .dataframe tbody tr th {\n",
       "        vertical-align: top;\n",
       "    }\n",
       "\n",
       "    .dataframe thead th {\n",
       "        text-align: right;\n",
       "    }\n",
       "</style>\n",
       "<table border=\"1\" class=\"dataframe\">\n",
       "  <thead>\n",
       "    <tr style=\"text-align: right;\">\n",
       "      <th></th>\n",
       "      <th>Created Date</th>\n",
       "      <th>Agency Name</th>\n",
       "      <th>Complaint Type</th>\n",
       "      <th>Descriptor</th>\n",
       "      <th>Location Type</th>\n",
       "      <th>Street Name</th>\n",
       "      <th>City</th>\n",
       "      <th>Landmark</th>\n",
       "      <th>Vehicle Type</th>\n",
       "      <th>Zip Codes</th>\n",
       "    </tr>\n",
       "  </thead>\n",
       "  <tbody>\n",
       "    <tr>\n",
       "      <th>0</th>\n",
       "      <td>04/08/2023 12:00:00 PM</td>\n",
       "      <td>Department of Sanitation</td>\n",
       "      <td>Derelict Vehicles</td>\n",
       "      <td>Derelict Vehicles</td>\n",
       "      <td>Street</td>\n",
       "      <td>160 STREET</td>\n",
       "      <td>JAMAICA</td>\n",
       "      <td>NaN</td>\n",
       "      <td>NaN</td>\n",
       "      <td>24668</td>\n",
       "    </tr>\n",
       "    <tr>\n",
       "      <th>1</th>\n",
       "      <td>04/08/2023 01:18:48 AM</td>\n",
       "      <td>Department of Sanitation</td>\n",
       "      <td>Graffiti</td>\n",
       "      <td>Graffiti</td>\n",
       "      <td>Mixed Use</td>\n",
       "      <td>WEST   13 STREET</td>\n",
       "      <td>NEW YORK</td>\n",
       "      <td>NaN</td>\n",
       "      <td>NaN</td>\n",
       "      <td>12074</td>\n",
       "    </tr>\n",
       "    <tr>\n",
       "      <th>2</th>\n",
       "      <td>04/08/2023 12:21:00 AM</td>\n",
       "      <td>Department of Transportation</td>\n",
       "      <td>Traffic Signal Condition</td>\n",
       "      <td>Pedestrian Signal</td>\n",
       "      <td>NaN</td>\n",
       "      <td>NaN</td>\n",
       "      <td>QUEENS</td>\n",
       "      <td>NaN</td>\n",
       "      <td>NaN</td>\n",
       "      <td>16858</td>\n",
       "    </tr>\n",
       "    <tr>\n",
       "      <th>3</th>\n",
       "      <td>04/08/2023 12:01:00 AM</td>\n",
       "      <td>Department of Transportation</td>\n",
       "      <td>Traffic Signal Condition</td>\n",
       "      <td>Controller</td>\n",
       "      <td>NaN</td>\n",
       "      <td>NaN</td>\n",
       "      <td>BROOKLYN</td>\n",
       "      <td>NaN</td>\n",
       "      <td>NaN</td>\n",
       "      <td>18180</td>\n",
       "    </tr>\n",
       "    <tr>\n",
       "      <th>4</th>\n",
       "      <td>04/08/2023 12:00:00 AM</td>\n",
       "      <td>Department of Transportation</td>\n",
       "      <td>Traffic Signal Condition</td>\n",
       "      <td>LED Lense</td>\n",
       "      <td>NaN</td>\n",
       "      <td>NaN</td>\n",
       "      <td>MANHATTAN</td>\n",
       "      <td>NaN</td>\n",
       "      <td>NaN</td>\n",
       "      <td>12420</td>\n",
       "    </tr>\n",
       "  </tbody>\n",
       "</table>\n",
       "</div>"
      ],
      "text/plain": [
       "             Created Date                   Agency Name  \\\n",
       "0  04/08/2023 12:00:00 PM      Department of Sanitation   \n",
       "1  04/08/2023 01:18:48 AM      Department of Sanitation   \n",
       "2  04/08/2023 12:21:00 AM  Department of Transportation   \n",
       "3  04/08/2023 12:01:00 AM  Department of Transportation   \n",
       "4  04/08/2023 12:00:00 AM  Department of Transportation   \n",
       "\n",
       "             Complaint Type         Descriptor Location Type  \\\n",
       "0         Derelict Vehicles  Derelict Vehicles        Street   \n",
       "1                  Graffiti           Graffiti     Mixed Use   \n",
       "2  Traffic Signal Condition  Pedestrian Signal           NaN   \n",
       "3  Traffic Signal Condition         Controller           NaN   \n",
       "4  Traffic Signal Condition          LED Lense           NaN   \n",
       "\n",
       "        Street Name       City Landmark Vehicle Type Zip Codes  \n",
       "0        160 STREET    JAMAICA      NaN          NaN     24668  \n",
       "1  WEST   13 STREET   NEW YORK      NaN          NaN     12074  \n",
       "2               NaN     QUEENS      NaN          NaN     16858  \n",
       "3               NaN   BROOKLYN      NaN          NaN     18180  \n",
       "4               NaN  MANHATTAN      NaN          NaN     12420  "
      ]
     },
     "execution_count": 46,
     "metadata": {},
     "output_type": "execute_result"
    }
   ],
   "source": [
    "df.head()"
   ]
  },
  {
   "cell_type": "code",
   "execution_count": 31,
   "id": "ebd5e47c-5db5-4969-a29c-310eabaa1779",
   "metadata": {},
   "outputs": [],
   "source": [
    "from matplotlib import rcParams\n",
    "\n",
    "# figure size in inches\n",
    "rcParams['figure.figsize'] = 11.7,8.27"
   ]
  },
  {
   "cell_type": "code",
   "execution_count": 32,
   "id": "87197b3a-b1e3-44c8-906e-18606e17227d",
   "metadata": {},
   "outputs": [
    {
     "data": {
      "text/plain": [
       "<Axes: xlabel='Agency', ylabel='count'>"
      ]
     },
     "execution_count": 32,
     "metadata": {},
     "output_type": "execute_result"
    },
    {
     "data": {
      "image/png": "[encoded data removed]",
      "text/plain": [
       "<Figure size 1170x827 with 1 Axes>"
      ]
     },
     "metadata": {},
     "output_type": "display_data"
    }
   ],
   "source": [
    "sns.countplot(data=df, x=\"Agency\")\n"
   ]
  },
  {
   "cell_type": "code",
   "execution_count": 33,
   "id": "77177f1e-cb48-446b-a8e4-c38a0b16785e",
   "metadata": {},
   "outputs": [
    {
     "data": {
      "text/plain": [
       "<Axes: xlabel='Agency Name', ylabel='count'>"
      ]
     },
     "execution_count": 33,
     "metadata": {},
     "output_type": "execute_result"
    },
    {
     "data": {
      "image/png": "[encoded data removed]",
      "text/plain": [
       "<Figure size 1170x827 with 1 Axes>"
      ]
     },
     "metadata": {},
     "output_type": "display_data"
    }
   ],
   "source": [
    "sns.countplot(data=df, x=\"Agency Name\")\n"
   ]
  },
  {
   "cell_type": "code",
   "execution_count": 34,
   "id": "ebd0d8f7-6e97-414a-84f7-7bec321bc71d",
   "metadata": {},
   "outputs": [
    {
     "data": {
      "text/plain": [
       "<Axes: xlabel='Complaint Type', ylabel='count'>"
      ]
     },
     "execution_count": 34,
     "metadata": {},
     "output_type": "execute_result"
    },
    {
     "data": {
      "image/png": "[encoded data removed]",
      "text/plain": [
       "<Figure size 1170x827 with 1 Axes>"
      ]
     },
     "metadata": {},
     "output_type": "display_data"
    }
   ],
   "source": [
    "sns.countplot(data=df, x=\"Complaint Type\")\n"
   ]
  },
  {
   "cell_type": "code",
   "execution_count": 35,
   "id": "3f690b61-fc49-49e7-9997-926b9f3dd42e",
   "metadata": {},
   "outputs": [
    {
     "data": {
      "text/plain": [
       "<Axes: xlabel='Zip Codes', ylabel='count'>"
      ]
     },
     "execution_count": 35,
     "metadata": {},
     "output_type": "execute_result"
    },
    {
     "data": {
      "image/png": "[encoded data removed]",
      "text/plain": [
       "<Figure size 1170x827 with 1 Axes>"
      ]
     },
     "metadata": {},
     "output_type": "display_data"
    }
   ],
   "source": [
    "sns.countplot(data=df, x=\"Zip Codes\")\n"
   ]
  },
  {
   "cell_type": "code",
   "execution_count": 47,
   "id": "1365ad97-076b-4b02-bab5-25b976625d0b",
   "metadata": {},
   "outputs": [],
   "source": [
    "df['Created Date'] = pd.to_datetime(df['Created Date'], infer_datetime_format=True)"
   ]
  },
  {
   "cell_type": "code",
   "execution_count": 48,
   "id": "a3346c87-3136-4665-9b47-ffd0c312d261",
   "metadata": {},
   "outputs": [],
   "source": [
    "df['day_of_week'] = df['Created Date'].dt.dayofweek"
   ]
  },
  {
   "cell_type": "code",
   "execution_count": 49,
   "id": "f298b310-2653-419b-9cc9-686db357562a",
   "metadata": {},
   "outputs": [],
   "source": [
    "df['month'] = df['Created Date'].dt.month"
   ]
  },
  {
   "cell_type": "code",
   "execution_count": 50,
   "id": "41f17e23-1022-4313-b57f-b53d69a4a701",
   "metadata": {},
   "outputs": [
    {
     "data": {
      "text/html": [
       "<div>\n",
       "<style scoped>\n",
       "    .dataframe tbody tr th:only-of-type {\n",
       "        vertical-align: middle;\n",
       "    }\n",
       "\n",
       "    .dataframe tbody tr th {\n",
       "        vertical-align: top;\n",
       "    }\n",
       "\n",
       "    .dataframe thead th {\n",
       "        text-align: right;\n",
       "    }\n",
       "</style>\n",
       "<table border=\"1\" class=\"dataframe\">\n",
       "  <thead>\n",
       "    <tr style=\"text-align: right;\">\n",
       "      <th></th>\n",
       "      <th>Created Date</th>\n",
       "      <th>Agency Name</th>\n",
       "      <th>Complaint Type</th>\n",
       "      <th>Descriptor</th>\n",
       "      <th>Location Type</th>\n",
       "      <th>Street Name</th>\n",
       "      <th>City</th>\n",
       "      <th>Landmark</th>\n",
       "      <th>Vehicle Type</th>\n",
       "      <th>Zip Codes</th>\n",
       "      <th>day_of_week</th>\n",
       "      <th>month</th>\n",
       "    </tr>\n",
       "  </thead>\n",
       "  <tbody>\n",
       "    <tr>\n",
       "      <th>0</th>\n",
       "      <td>2023-04-08 12:00:00</td>\n",
       "      <td>Department of Sanitation</td>\n",
       "      <td>Derelict Vehicles</td>\n",
       "      <td>Derelict Vehicles</td>\n",
       "      <td>Street</td>\n",
       "      <td>160 STREET</td>\n",
       "      <td>JAMAICA</td>\n",
       "      <td>NaN</td>\n",
       "      <td>NaN</td>\n",
       "      <td>24668</td>\n",
       "      <td>5</td>\n",
       "      <td>4</td>\n",
       "    </tr>\n",
       "    <tr>\n",
       "      <th>1</th>\n",
       "      <td>2023-04-08 01:18:48</td>\n",
       "      <td>Department of Sanitation</td>\n",
       "      <td>Graffiti</td>\n",
       "      <td>Graffiti</td>\n",
       "      <td>Mixed Use</td>\n",
       "      <td>WEST   13 STREET</td>\n",
       "      <td>NEW YORK</td>\n",
       "      <td>NaN</td>\n",
       "      <td>NaN</td>\n",
       "      <td>12074</td>\n",
       "      <td>5</td>\n",
       "      <td>4</td>\n",
       "    </tr>\n",
       "    <tr>\n",
       "      <th>2</th>\n",
       "      <td>2023-04-08 12:21:00</td>\n",
       "      <td>Department of Transportation</td>\n",
       "      <td>Traffic Signal Condition</td>\n",
       "      <td>Pedestrian Signal</td>\n",
       "      <td>NaN</td>\n",
       "      <td>NaN</td>\n",
       "      <td>QUEENS</td>\n",
       "      <td>NaN</td>\n",
       "      <td>NaN</td>\n",
       "      <td>16858</td>\n",
       "      <td>5</td>\n",
       "      <td>4</td>\n",
       "    </tr>\n",
       "    <tr>\n",
       "      <th>3</th>\n",
       "      <td>2023-04-08 12:01:00</td>\n",
       "      <td>Department of Transportation</td>\n",
       "      <td>Traffic Signal Condition</td>\n",
       "      <td>Controller</td>\n",
       "      <td>NaN</td>\n",
       "      <td>NaN</td>\n",
       "      <td>BROOKLYN</td>\n",
       "      <td>NaN</td>\n",
       "      <td>NaN</td>\n",
       "      <td>18180</td>\n",
       "      <td>5</td>\n",
       "      <td>4</td>\n",
       "    </tr>\n",
       "    <tr>\n",
       "      <th>4</th>\n",
       "      <td>2023-04-08 12:00:00</td>\n",
       "      <td>Department of Transportation</td>\n",
       "      <td>Traffic Signal Condition</td>\n",
       "      <td>LED Lense</td>\n",
       "      <td>NaN</td>\n",
       "      <td>NaN</td>\n",
       "      <td>MANHATTAN</td>\n",
       "      <td>NaN</td>\n",
       "      <td>NaN</td>\n",
       "      <td>12420</td>\n",
       "      <td>5</td>\n",
       "      <td>4</td>\n",
       "    </tr>\n",
       "  </tbody>\n",
       "</table>\n",
       "</div>"
      ],
      "text/plain": [
       "         Created Date                   Agency Name            Complaint Type  \\\n",
       "0 2023-04-08 12:00:00      Department of Sanitation         Derelict Vehicles   \n",
       "1 2023-04-08 01:18:48      Department of Sanitation                  Graffiti   \n",
       "2 2023-04-08 12:21:00  Department of Transportation  Traffic Signal Condition   \n",
       "3 2023-04-08 12:01:00  Department of Transportation  Traffic Signal Condition   \n",
       "4 2023-04-08 12:00:00  Department of Transportation  Traffic Signal Condition   \n",
       "\n",
       "          Descriptor Location Type       Street Name       City Landmark  \\\n",
       "0  Derelict Vehicles        Street        160 STREET    JAMAICA      NaN   \n",
       "1           Graffiti     Mixed Use  WEST   13 STREET   NEW YORK      NaN   \n",
       "2  Pedestrian Signal           NaN               NaN     QUEENS      NaN   \n",
       "3         Controller           NaN               NaN   BROOKLYN      NaN   \n",
       "4          LED Lense           NaN               NaN  MANHATTAN      NaN   \n",
       "\n",
       "  Vehicle Type Zip Codes  day_of_week  month  \n",
       "0          NaN     24668            5      4  \n",
       "1          NaN     12074            5      4  \n",
       "2          NaN     16858            5      4  \n",
       "3          NaN     18180            5      4  \n",
       "4          NaN     12420            5      4  "
      ]
     },
     "execution_count": 50,
     "metadata": {},
     "output_type": "execute_result"
    }
   ],
   "source": [
    "df.head()"
   ]
  },
  {
   "cell_type": "code",
   "execution_count": 40,
   "id": "30c54f46-adeb-4819-beaf-fadc482ff96a",
   "metadata": {},
   "outputs": [
    {
     "data": {
      "text/plain": [
       "<Axes: xlabel='day_of_week', ylabel='count'>"
      ]
     },
     "execution_count": 40,
     "metadata": {},
     "output_type": "execute_result"
    },
    {
     "data": {
      "image/png": "[encoded data removed]",
      "text/plain": [
       "<Figure size 1170x827 with 1 Axes>"
      ]
     },
     "metadata": {},
     "output_type": "display_data"
    }
   ],
   "source": [
    "sns.countplot(data=df, x=\"day_of_week\")\n"
   ]
  },
  {
   "cell_type": "code",
   "execution_count": 41,
   "id": "7e8dd5d6-a67a-44bb-883b-ed1a1f825663",
   "metadata": {},
   "outputs": [
    {
     "data": {
      "text/plain": [
       "<Axes: xlabel='month', ylabel='count'>"
      ]
     },
     "execution_count": 41,
     "metadata": {},
     "output_type": "execute_result"
    },
    {
     "data": {
      "image/png": "[encoded data removed]",
      "text/plain": [
       "<Figure size 1170x827 with 1 Axes>"
      ]
     },
     "metadata": {},
     "output_type": "display_data"
    }
   ],
   "source": [
    "sns.countplot(data=df, x=\"month\")\n"
   ]
  },
  {
   "cell_type": "code",
   "execution_count": 51,
   "id": "dfe61c5c-d9af-4e04-9843-92ab13b55c9c",
   "metadata": {},
   "outputs": [],
   "source": [
    "dayList = ['Monday','Tuesday','Wednesday','Thursday','Friday','Saturday','Sunday']\n",
    "monthList = ['','January','February','March','April','May','June','July','August','September','October','November','December']"
   ]
  },
  {
   "cell_type": "code",
   "execution_count": 52,
   "id": "97468639-76c7-4bc9-8b57-32a4add6e40d",
   "metadata": {},
   "outputs": [],
   "source": [
    "df['day_of_week'] = df['day_of_week'].apply(lambda x: dayList[x])\n"
   ]
  },
  {
   "cell_type": "code",
   "execution_count": 53,
   "id": "b1de12bd-5b49-4b12-b937-d528a2acce19",
   "metadata": {},
   "outputs": [
    {
     "data": {
      "text/html": [
       "<div>\n",
       "<style scoped>\n",
       "    .dataframe tbody tr th:only-of-type {\n",
       "        vertical-align: middle;\n",
       "    }\n",
       "\n",
       "    .dataframe tbody tr th {\n",
       "        vertical-align: top;\n",
       "    }\n",
       "\n",
       "    .dataframe thead th {\n",
       "        text-align: right;\n",
       "    }\n",
       "</style>\n",
       "<table border=\"1\" class=\"dataframe\">\n",
       "  <thead>\n",
       "    <tr style=\"text-align: right;\">\n",
       "      <th></th>\n",
       "      <th>Created Date</th>\n",
       "      <th>Agency Name</th>\n",
       "      <th>Complaint Type</th>\n",
       "      <th>Descriptor</th>\n",
       "      <th>Location Type</th>\n",
       "      <th>Street Name</th>\n",
       "      <th>City</th>\n",
       "      <th>Landmark</th>\n",
       "      <th>Vehicle Type</th>\n",
       "      <th>Zip Codes</th>\n",
       "      <th>day_of_week</th>\n",
       "      <th>month</th>\n",
       "    </tr>\n",
       "  </thead>\n",
       "  <tbody>\n",
       "    <tr>\n",
       "      <th>0</th>\n",
       "      <td>2023-04-08 12:00:00</td>\n",
       "      <td>Department of Sanitation</td>\n",
       "      <td>Derelict Vehicles</td>\n",
       "      <td>Derelict Vehicles</td>\n",
       "      <td>Street</td>\n",
       "      <td>160 STREET</td>\n",
       "      <td>JAMAICA</td>\n",
       "      <td>NaN</td>\n",
       "      <td>NaN</td>\n",
       "      <td>24668</td>\n",
       "      <td>Saturday</td>\n",
       "      <td>4</td>\n",
       "    </tr>\n",
       "    <tr>\n",
       "      <th>1</th>\n",
       "      <td>2023-04-08 01:18:48</td>\n",
       "      <td>Department of Sanitation</td>\n",
       "      <td>Graffiti</td>\n",
       "      <td>Graffiti</td>\n",
       "      <td>Mixed Use</td>\n",
       "      <td>WEST   13 STREET</td>\n",
       "      <td>NEW YORK</td>\n",
       "      <td>NaN</td>\n",
       "      <td>NaN</td>\n",
       "      <td>12074</td>\n",
       "      <td>Saturday</td>\n",
       "      <td>4</td>\n",
       "    </tr>\n",
       "    <tr>\n",
       "      <th>2</th>\n",
       "      <td>2023-04-08 12:21:00</td>\n",
       "      <td>Department of Transportation</td>\n",
       "      <td>Traffic Signal Condition</td>\n",
       "      <td>Pedestrian Signal</td>\n",
       "      <td>NaN</td>\n",
       "      <td>NaN</td>\n",
       "      <td>QUEENS</td>\n",
       "      <td>NaN</td>\n",
       "      <td>NaN</td>\n",
       "      <td>16858</td>\n",
       "      <td>Saturday</td>\n",
       "      <td>4</td>\n",
       "    </tr>\n",
       "    <tr>\n",
       "      <th>3</th>\n",
       "      <td>2023-04-08 12:01:00</td>\n",
       "      <td>Department of Transportation</td>\n",
       "      <td>Traffic Signal Condition</td>\n",
       "      <td>Controller</td>\n",
       "      <td>NaN</td>\n",
       "      <td>NaN</td>\n",
       "      <td>BROOKLYN</td>\n",
       "      <td>NaN</td>\n",
       "      <td>NaN</td>\n",
       "      <td>18180</td>\n",
       "      <td>Saturday</td>\n",
       "      <td>4</td>\n",
       "    </tr>\n",
       "    <tr>\n",
       "      <th>4</th>\n",
       "      <td>2023-04-08 12:00:00</td>\n",
       "      <td>Department of Transportation</td>\n",
       "      <td>Traffic Signal Condition</td>\n",
       "      <td>LED Lense</td>\n",
       "      <td>NaN</td>\n",
       "      <td>NaN</td>\n",
       "      <td>MANHATTAN</td>\n",
       "      <td>NaN</td>\n",
       "      <td>NaN</td>\n",
       "      <td>12420</td>\n",
       "      <td>Saturday</td>\n",
       "      <td>4</td>\n",
       "    </tr>\n",
       "  </tbody>\n",
       "</table>\n",
       "</div>"
      ],
      "text/plain": [
       "         Created Date                   Agency Name            Complaint Type  \\\n",
       "0 2023-04-08 12:00:00      Department of Sanitation         Derelict Vehicles   \n",
       "1 2023-04-08 01:18:48      Department of Sanitation                  Graffiti   \n",
       "2 2023-04-08 12:21:00  Department of Transportation  Traffic Signal Condition   \n",
       "3 2023-04-08 12:01:00  Department of Transportation  Traffic Signal Condition   \n",
       "4 2023-04-08 12:00:00  Department of Transportation  Traffic Signal Condition   \n",
       "\n",
       "          Descriptor Location Type       Street Name       City Landmark  \\\n",
       "0  Derelict Vehicles        Street        160 STREET    JAMAICA      NaN   \n",
       "1           Graffiti     Mixed Use  WEST   13 STREET   NEW YORK      NaN   \n",
       "2  Pedestrian Signal           NaN               NaN     QUEENS      NaN   \n",
       "3         Controller           NaN               NaN   BROOKLYN      NaN   \n",
       "4          LED Lense           NaN               NaN  MANHATTAN      NaN   \n",
       "\n",
       "  Vehicle Type Zip Codes day_of_week  month  \n",
       "0          NaN     24668    Saturday      4  \n",
       "1          NaN     12074    Saturday      4  \n",
       "2          NaN     16858    Saturday      4  \n",
       "3          NaN     18180    Saturday      4  \n",
       "4          NaN     12420    Saturday      4  "
      ]
     },
     "execution_count": 53,
     "metadata": {},
     "output_type": "execute_result"
    }
   ],
   "source": [
    "df.head()"
   ]
  },
  {
   "cell_type": "code",
   "execution_count": 54,
   "id": "6da2489d-90a3-4325-831e-0ed882e36938",
   "metadata": {},
   "outputs": [],
   "source": [
    "df['month'] = df['month'].apply(lambda x: monthList[x])\n"
   ]
  },
  {
   "cell_type": "code",
   "execution_count": 55,
   "id": "539dd5d7-6ebb-49c2-861f-dbad08afbdbb",
   "metadata": {},
   "outputs": [
    {
     "data": {
      "text/html": [
       "<div>\n",
       "<style scoped>\n",
       "    .dataframe tbody tr th:only-of-type {\n",
       "        vertical-align: middle;\n",
       "    }\n",
       "\n",
       "    .dataframe tbody tr th {\n",
       "        vertical-align: top;\n",
       "    }\n",
       "\n",
       "    .dataframe thead th {\n",
       "        text-align: right;\n",
       "    }\n",
       "</style>\n",
       "<table border=\"1\" class=\"dataframe\">\n",
       "  <thead>\n",
       "    <tr style=\"text-align: right;\">\n",
       "      <th></th>\n",
       "      <th>Created Date</th>\n",
       "      <th>Agency Name</th>\n",
       "      <th>Complaint Type</th>\n",
       "      <th>Descriptor</th>\n",
       "      <th>Location Type</th>\n",
       "      <th>Street Name</th>\n",
       "      <th>City</th>\n",
       "      <th>Landmark</th>\n",
       "      <th>Vehicle Type</th>\n",
       "      <th>Zip Codes</th>\n",
       "      <th>day_of_week</th>\n",
       "      <th>month</th>\n",
       "    </tr>\n",
       "  </thead>\n",
       "  <tbody>\n",
       "    <tr>\n",
       "      <th>0</th>\n",
       "      <td>2023-04-08 12:00:00</td>\n",
       "      <td>Department of Sanitation</td>\n",
       "      <td>Derelict Vehicles</td>\n",
       "      <td>Derelict Vehicles</td>\n",
       "      <td>Street</td>\n",
       "      <td>160 STREET</td>\n",
       "      <td>JAMAICA</td>\n",
       "      <td>NaN</td>\n",
       "      <td>NaN</td>\n",
       "      <td>24668</td>\n",
       "      <td>Saturday</td>\n",
       "      <td>April</td>\n",
       "    </tr>\n",
       "    <tr>\n",
       "      <th>1</th>\n",
       "      <td>2023-04-08 01:18:48</td>\n",
       "      <td>Department of Sanitation</td>\n",
       "      <td>Graffiti</td>\n",
       "      <td>Graffiti</td>\n",
       "      <td>Mixed Use</td>\n",
       "      <td>WEST   13 STREET</td>\n",
       "      <td>NEW YORK</td>\n",
       "      <td>NaN</td>\n",
       "      <td>NaN</td>\n",
       "      <td>12074</td>\n",
       "      <td>Saturday</td>\n",
       "      <td>April</td>\n",
       "    </tr>\n",
       "    <tr>\n",
       "      <th>2</th>\n",
       "      <td>2023-04-08 12:21:00</td>\n",
       "      <td>Department of Transportation</td>\n",
       "      <td>Traffic Signal Condition</td>\n",
       "      <td>Pedestrian Signal</td>\n",
       "      <td>NaN</td>\n",
       "      <td>NaN</td>\n",
       "      <td>QUEENS</td>\n",
       "      <td>NaN</td>\n",
       "      <td>NaN</td>\n",
       "      <td>16858</td>\n",
       "      <td>Saturday</td>\n",
       "      <td>April</td>\n",
       "    </tr>\n",
       "    <tr>\n",
       "      <th>3</th>\n",
       "      <td>2023-04-08 12:01:00</td>\n",
       "      <td>Department of Transportation</td>\n",
       "      <td>Traffic Signal Condition</td>\n",
       "      <td>Controller</td>\n",
       "      <td>NaN</td>\n",
       "      <td>NaN</td>\n",
       "      <td>BROOKLYN</td>\n",
       "      <td>NaN</td>\n",
       "      <td>NaN</td>\n",
       "      <td>18180</td>\n",
       "      <td>Saturday</td>\n",
       "      <td>April</td>\n",
       "    </tr>\n",
       "    <tr>\n",
       "      <th>4</th>\n",
       "      <td>2023-04-08 12:00:00</td>\n",
       "      <td>Department of Transportation</td>\n",
       "      <td>Traffic Signal Condition</td>\n",
       "      <td>LED Lense</td>\n",
       "      <td>NaN</td>\n",
       "      <td>NaN</td>\n",
       "      <td>MANHATTAN</td>\n",
       "      <td>NaN</td>\n",
       "      <td>NaN</td>\n",
       "      <td>12420</td>\n",
       "      <td>Saturday</td>\n",
       "      <td>April</td>\n",
       "    </tr>\n",
       "  </tbody>\n",
       "</table>\n",
       "</div>"
      ],
      "text/plain": [
       "         Created Date                   Agency Name            Complaint Type  \\\n",
       "0 2023-04-08 12:00:00      Department of Sanitation         Derelict Vehicles   \n",
       "1 2023-04-08 01:18:48      Department of Sanitation                  Graffiti   \n",
       "2 2023-04-08 12:21:00  Department of Transportation  Traffic Signal Condition   \n",
       "3 2023-04-08 12:01:00  Department of Transportation  Traffic Signal Condition   \n",
       "4 2023-04-08 12:00:00  Department of Transportation  Traffic Signal Condition   \n",
       "\n",
       "          Descriptor Location Type       Street Name       City Landmark  \\\n",
       "0  Derelict Vehicles        Street        160 STREET    JAMAICA      NaN   \n",
       "1           Graffiti     Mixed Use  WEST   13 STREET   NEW YORK      NaN   \n",
       "2  Pedestrian Signal           NaN               NaN     QUEENS      NaN   \n",
       "3         Controller           NaN               NaN   BROOKLYN      NaN   \n",
       "4          LED Lense           NaN               NaN  MANHATTAN      NaN   \n",
       "\n",
       "  Vehicle Type Zip Codes day_of_week  month  \n",
       "0          NaN     24668    Saturday  April  \n",
       "1          NaN     12074    Saturday  April  \n",
       "2          NaN     16858    Saturday  April  \n",
       "3          NaN     18180    Saturday  April  \n",
       "4          NaN     12420    Saturday  April  "
      ]
     },
     "execution_count": 55,
     "metadata": {},
     "output_type": "execute_result"
    }
   ],
   "source": [
    "df.head()"
   ]
  },
  {
   "cell_type": "code",
   "execution_count": 56,
   "id": "3a4e1cf0-1b6c-45b6-acc3-fe08bcbbdb0c",
   "metadata": {},
   "outputs": [
    {
     "data": {
      "text/plain": [
       "0         2023-04-08 12:00:00\n",
       "1         2023-04-08 01:18:48\n",
       "2         2023-04-08 12:21:00\n",
       "3         2023-04-08 12:01:00\n",
       "4         2023-04-08 12:00:00\n",
       "                  ...        \n",
       "3099024   2022-04-09 11:57:17\n",
       "3099025   2022-04-09 11:57:02\n",
       "3099026   2022-04-09 11:57:00\n",
       "3099027   2022-04-09 11:57:00\n",
       "3099028   2022-04-09 11:56:21\n",
       "Name: Created Date, Length: 3099029, dtype: datetime64[ns]"
      ]
     },
     "execution_count": 56,
     "metadata": {},
     "output_type": "execute_result"
    }
   ],
   "source": [
    "df.pop('Created Date')"
   ]
  },
  {
   "cell_type": "code",
   "execution_count": 57,
   "id": "23c096f6-1298-4dd9-a794-89f2e3759182",
   "metadata": {},
   "outputs": [
    {
     "data": {
      "text/html": [
       "<div>\n",
       "<style scoped>\n",
       "    .dataframe tbody tr th:only-of-type {\n",
       "        vertical-align: middle;\n",
       "    }\n",
       "\n",
       "    .dataframe tbody tr th {\n",
       "        vertical-align: top;\n",
       "    }\n",
       "\n",
       "    .dataframe thead th {\n",
       "        text-align: right;\n",
       "    }\n",
       "</style>\n",
       "<table border=\"1\" class=\"dataframe\">\n",
       "  <thead>\n",
       "    <tr style=\"text-align: right;\">\n",
       "      <th></th>\n",
       "      <th>Agency Name</th>\n",
       "      <th>Complaint Type</th>\n",
       "      <th>Descriptor</th>\n",
       "      <th>Location Type</th>\n",
       "      <th>Street Name</th>\n",
       "      <th>City</th>\n",
       "      <th>Landmark</th>\n",
       "      <th>Vehicle Type</th>\n",
       "      <th>Zip Codes</th>\n",
       "      <th>day_of_week</th>\n",
       "      <th>month</th>\n",
       "    </tr>\n",
       "  </thead>\n",
       "  <tbody>\n",
       "    <tr>\n",
       "      <th>0</th>\n",
       "      <td>Department of Sanitation</td>\n",
       "      <td>Derelict Vehicles</td>\n",
       "      <td>Derelict Vehicles</td>\n",
       "      <td>Street</td>\n",
       "      <td>160 STREET</td>\n",
       "      <td>JAMAICA</td>\n",
       "      <td>NaN</td>\n",
       "      <td>NaN</td>\n",
       "      <td>24668</td>\n",
       "      <td>Saturday</td>\n",
       "      <td>April</td>\n",
       "    </tr>\n",
       "    <tr>\n",
       "      <th>1</th>\n",
       "      <td>Department of Sanitation</td>\n",
       "      <td>Graffiti</td>\n",
       "      <td>Graffiti</td>\n",
       "      <td>Mixed Use</td>\n",
       "      <td>WEST   13 STREET</td>\n",
       "      <td>NEW YORK</td>\n",
       "      <td>NaN</td>\n",
       "      <td>NaN</td>\n",
       "      <td>12074</td>\n",
       "      <td>Saturday</td>\n",
       "      <td>April</td>\n",
       "    </tr>\n",
       "    <tr>\n",
       "      <th>2</th>\n",
       "      <td>Department of Transportation</td>\n",
       "      <td>Traffic Signal Condition</td>\n",
       "      <td>Pedestrian Signal</td>\n",
       "      <td>NaN</td>\n",
       "      <td>NaN</td>\n",
       "      <td>QUEENS</td>\n",
       "      <td>NaN</td>\n",
       "      <td>NaN</td>\n",
       "      <td>16858</td>\n",
       "      <td>Saturday</td>\n",
       "      <td>April</td>\n",
       "    </tr>\n",
       "    <tr>\n",
       "      <th>3</th>\n",
       "      <td>Department of Transportation</td>\n",
       "      <td>Traffic Signal Condition</td>\n",
       "      <td>Controller</td>\n",
       "      <td>NaN</td>\n",
       "      <td>NaN</td>\n",
       "      <td>BROOKLYN</td>\n",
       "      <td>NaN</td>\n",
       "      <td>NaN</td>\n",
       "      <td>18180</td>\n",
       "      <td>Saturday</td>\n",
       "      <td>April</td>\n",
       "    </tr>\n",
       "    <tr>\n",
       "      <th>4</th>\n",
       "      <td>Department of Transportation</td>\n",
       "      <td>Traffic Signal Condition</td>\n",
       "      <td>LED Lense</td>\n",
       "      <td>NaN</td>\n",
       "      <td>NaN</td>\n",
       "      <td>MANHATTAN</td>\n",
       "      <td>NaN</td>\n",
       "      <td>NaN</td>\n",
       "      <td>12420</td>\n",
       "      <td>Saturday</td>\n",
       "      <td>April</td>\n",
       "    </tr>\n",
       "  </tbody>\n",
       "</table>\n",
       "</div>"
      ],
      "text/plain": [
       "                    Agency Name            Complaint Type         Descriptor  \\\n",
       "0      Department of Sanitation         Derelict Vehicles  Derelict Vehicles   \n",
       "1      Department of Sanitation                  Graffiti           Graffiti   \n",
       "2  Department of Transportation  Traffic Signal Condition  Pedestrian Signal   \n",
       "3  Department of Transportation  Traffic Signal Condition         Controller   \n",
       "4  Department of Transportation  Traffic Signal Condition          LED Lense   \n",
       "\n",
       "  Location Type       Street Name       City Landmark Vehicle Type Zip Codes  \\\n",
       "0        Street        160 STREET    JAMAICA      NaN          NaN     24668   \n",
       "1     Mixed Use  WEST   13 STREET   NEW YORK      NaN          NaN     12074   \n",
       "2           NaN               NaN     QUEENS      NaN          NaN     16858   \n",
       "3           NaN               NaN   BROOKLYN      NaN          NaN     18180   \n",
       "4           NaN               NaN  MANHATTAN      NaN          NaN     12420   \n",
       "\n",
       "  day_of_week  month  \n",
       "0    Saturday  April  \n",
       "1    Saturday  April  \n",
       "2    Saturday  April  \n",
       "3    Saturday  April  \n",
       "4    Saturday  April  "
      ]
     },
     "execution_count": 57,
     "metadata": {},
     "output_type": "execute_result"
    }
   ],
   "source": [
    "df.head()"
   ]
  },
  {
   "cell_type": "code",
   "execution_count": 50,
   "id": "fde0a8f4-94c6-4a42-91c0-000597a823ef",
   "metadata": {},
   "outputs": [
    {
     "data": {
      "text/plain": [
       "3099029"
      ]
     },
     "execution_count": 50,
     "metadata": {},
     "output_type": "execute_result"
    }
   ],
   "source": [
    "len(df)"
   ]
  },
  {
   "cell_type": "code",
   "execution_count": 58,
   "id": "66b672a4-15cd-46f1-a7bd-e4b360eff439",
   "metadata": {},
   "outputs": [],
   "source": [
    "smaller_df = df.sample(100000)"
   ]
  },
  {
   "cell_type": "code",
   "execution_count": 58,
   "id": "03ffeeaa-0f0b-4411-af60-d488a9115a7e",
   "metadata": {},
   "outputs": [],
   "source": [
    "df.to_csv('./INTEGRATED_DATASET.csv')"
   ]
  },
  {
   "cell_type": "code",
   "execution_count": 59,
   "id": "d7c2726d-c9d4-4824-8075-40455b8451a6",
   "metadata": {},
   "outputs": [],
   "source": [
    "smaller_df.to_csv('./INTEGRATED-DATASET-SMALL.csv',index=False)"
   ]
  },
  {
   "cell_type": "code",
   "execution_count": 6,
   "id": "7d6c28fd-2e1d-4269-9448-3fa600e61869",
   "metadata": {},
   "outputs": [],
   "source": [
    "newdf = pd.read_csv('INTEGRATED-DATASET-SMALL.csv')"
   ]
  },
  {
   "cell_type": "code",
   "execution_count": 10,
   "id": "a06b15e6-188e-4de8-8696-08d1081d7eee",
   "metadata": {},
   "outputs": [
    {
     "data": {
      "text/plain": [
       "0            0\n",
       "1            1\n",
       "2            2\n",
       "3            3\n",
       "4            4\n",
       "         ...  \n",
       "49995    49995\n",
       "49996    49996\n",
       "49997    49997\n",
       "49998    49998\n",
       "49999    49999\n",
       "Name: Unnamed: 0, Length: 50000, dtype: int64"
      ]
     },
     "execution_count": 10,
     "metadata": {},
     "output_type": "execute_result"
    }
   ],
   "source": [
    "newdf.pop(\"Unnamed: 0\")"
   ]
  },
  {
   "cell_type": "code",
   "execution_count": 12,
   "id": "07ca1361-d47c-4fd9-9469-042d21be8d3b",
   "metadata": {},
   "outputs": [],
   "source": [
    "newdf.to_csv('./INTEGRATED-DATASET-SMALL.csv',index=False)"
   ]
  },
  {
   "cell_type": "code",
   "execution_count": 11,
   "id": "2e241cbc-5e62-4634-ae6a-882a8fd1e23b",
   "metadata": {},
   "outputs": [
    {
     "data": {
      "text/html": [
       "<div>\n",
       "<style scoped>\n",
       "    .dataframe tbody tr th:only-of-type {\n",
       "        vertical-align: middle;\n",
       "    }\n",
       "\n",
       "    .dataframe tbody tr th {\n",
       "        vertical-align: top;\n",
       "    }\n",
       "\n",
       "    .dataframe thead th {\n",
       "        text-align: right;\n",
       "    }\n",
       "</style>\n",
       "<table border=\"1\" class=\"dataframe\">\n",
       "  <thead>\n",
       "    <tr style=\"text-align: right;\">\n",
       "      <th></th>\n",
       "      <th>Agency</th>\n",
       "      <th>Agency Name</th>\n",
       "      <th>Complaint Type</th>\n",
       "      <th>Descriptor</th>\n",
       "      <th>Location Type</th>\n",
       "      <th>Street Name</th>\n",
       "      <th>Address Type</th>\n",
       "      <th>City</th>\n",
       "      <th>Zip Codes</th>\n",
       "      <th>day_of_week</th>\n",
       "      <th>month</th>\n",
       "    </tr>\n",
       "  </thead>\n",
       "  <tbody>\n",
       "    <tr>\n",
       "      <th>0</th>\n",
       "      <td>DSNY</td>\n",
       "      <td>Department of Sanitation</td>\n",
       "      <td>Derelict Vehicles</td>\n",
       "      <td>Derelict Vehicles</td>\n",
       "      <td>Street</td>\n",
       "      <td>160 STREET</td>\n",
       "      <td>ADDRESS</td>\n",
       "      <td>JAMAICA</td>\n",
       "      <td>24668.0</td>\n",
       "      <td>Saturday</td>\n",
       "      <td>April</td>\n",
       "    </tr>\n",
       "    <tr>\n",
       "      <th>1</th>\n",
       "      <td>DSNY</td>\n",
       "      <td>Department of Sanitation</td>\n",
       "      <td>Graffiti</td>\n",
       "      <td>Graffiti</td>\n",
       "      <td>Mixed Use</td>\n",
       "      <td>WEST   13 STREET</td>\n",
       "      <td>ADDRESS</td>\n",
       "      <td>NEW YORK</td>\n",
       "      <td>12074.0</td>\n",
       "      <td>Saturday</td>\n",
       "      <td>April</td>\n",
       "    </tr>\n",
       "    <tr>\n",
       "      <th>2</th>\n",
       "      <td>DOT</td>\n",
       "      <td>Department of Transportation</td>\n",
       "      <td>Traffic Signal Condition</td>\n",
       "      <td>Pedestrian Signal</td>\n",
       "      <td>NaN</td>\n",
       "      <td>NaN</td>\n",
       "      <td>INTERSECTION</td>\n",
       "      <td>QUEENS</td>\n",
       "      <td>16858.0</td>\n",
       "      <td>Saturday</td>\n",
       "      <td>April</td>\n",
       "    </tr>\n",
       "    <tr>\n",
       "      <th>3</th>\n",
       "      <td>DOT</td>\n",
       "      <td>Department of Transportation</td>\n",
       "      <td>Traffic Signal Condition</td>\n",
       "      <td>Controller</td>\n",
       "      <td>NaN</td>\n",
       "      <td>NaN</td>\n",
       "      <td>INTERSECTION</td>\n",
       "      <td>BROOKLYN</td>\n",
       "      <td>18180.0</td>\n",
       "      <td>Saturday</td>\n",
       "      <td>April</td>\n",
       "    </tr>\n",
       "    <tr>\n",
       "      <th>4</th>\n",
       "      <td>DOT</td>\n",
       "      <td>Department of Transportation</td>\n",
       "      <td>Traffic Signal Condition</td>\n",
       "      <td>LED Lense</td>\n",
       "      <td>NaN</td>\n",
       "      <td>NaN</td>\n",
       "      <td>INTERSECTION</td>\n",
       "      <td>MANHATTAN</td>\n",
       "      <td>12420.0</td>\n",
       "      <td>Saturday</td>\n",
       "      <td>April</td>\n",
       "    </tr>\n",
       "  </tbody>\n",
       "</table>\n",
       "</div>"
      ],
      "text/plain": [
       "  Agency                   Agency Name            Complaint Type  \\\n",
       "0   DSNY      Department of Sanitation         Derelict Vehicles   \n",
       "1   DSNY      Department of Sanitation                  Graffiti   \n",
       "2    DOT  Department of Transportation  Traffic Signal Condition   \n",
       "3    DOT  Department of Transportation  Traffic Signal Condition   \n",
       "4    DOT  Department of Transportation  Traffic Signal Condition   \n",
       "\n",
       "          Descriptor Location Type       Street Name  Address Type       City  \\\n",
       "0  Derelict Vehicles        Street        160 STREET       ADDRESS    JAMAICA   \n",
       "1           Graffiti     Mixed Use  WEST   13 STREET       ADDRESS   NEW YORK   \n",
       "2  Pedestrian Signal           NaN               NaN  INTERSECTION     QUEENS   \n",
       "3         Controller           NaN               NaN  INTERSECTION   BROOKLYN   \n",
       "4          LED Lense           NaN               NaN  INTERSECTION  MANHATTAN   \n",
       "\n",
       "   Zip Codes day_of_week  month  \n",
       "0    24668.0    Saturday  April  \n",
       "1    12074.0    Saturday  April  \n",
       "2    16858.0    Saturday  April  \n",
       "3    18180.0    Saturday  April  \n",
       "4    12420.0    Saturday  April  "
      ]
     },
     "execution_count": 11,
     "metadata": {},
     "output_type": "execute_result"
    }
   ],
   "source": [
    "newdf.head()"
   ]
  },
  {
   "cell_type": "code",
   "execution_count": 3,
   "id": "db731874-837e-4151-9681-052cca9bd022",
   "metadata": {},
   "outputs": [
    {
     "data": {
      "text/plain": [
       "array([0, 'DSNY', 'Department of Sanitation', 'Derelict Vehicles',\n",
       "       'Derelict Vehicles', 'Street', '160 STREET', 'ADDRESS', 'JAMAICA',\n",
       "       nan, 24668.0, 'Saturday', 'April'], dtype=object)"
      ]
     },
     "execution_count": 3,
     "metadata": {},
     "output_type": "execute_result"
    }
   ],
   "source": [
    "newdf.values[0]"
   ]
  },
  {
   "cell_type": "code",
   "execution_count": 70,
   "id": "335c6f92-2a89-46d7-85af-315f5baa603b",
   "metadata": {},
   "outputs": [
    {
     "data": {
      "text/plain": [
       "Index(['Unnamed: 0', 'Agency', 'Agency Name', 'Complaint Type', 'Descriptor',\n",
       "       'Location Type', 'Street Name', 'Address Type', 'City', 'Landmark',\n",
       "       'Zip Codes', 'day_of_week', 'month'],\n",
       "      dtype='object')"
      ]
     },
     "execution_count": 70,
     "metadata": {},
     "output_type": "execute_result"
    }
   ],
   "source": [
    "newdf.columns"
   ]
  },
  {
   "cell_type": "code",
   "execution_count": 71,
   "id": "c275d390-fbb5-4479-af52-58a0286a1905",
   "metadata": {},
   "outputs": [
    {
     "data": {
      "text/plain": [
       "0            0\n",
       "1            1\n",
       "2            2\n",
       "3            3\n",
       "4            4\n",
       "         ...  \n",
       "49995    49995\n",
       "49996    49996\n",
       "49997    49997\n",
       "49998    49998\n",
       "49999    49999\n",
       "Name: Unnamed: 0, Length: 50000, dtype: int64"
      ]
     },
     "execution_count": 71,
     "metadata": {},
     "output_type": "execute_result"
    }
   ],
   "source": [
    "newdf.pop('Unnamed: 0')"
   ]
  },
  {
   "cell_type": "code",
   "execution_count": 72,
   "id": "d4e59df1-f6ff-42b1-bed3-ba404510f128",
   "metadata": {},
   "outputs": [
    {
     "data": {
      "text/plain": [
       "array(['DSNY', 'Department of Sanitation', 'Derelict Vehicles',\n",
       "       'Derelict Vehicles', 'Street', '160 STREET', 'ADDRESS', 'JAMAICA',\n",
       "       nan, 24668.0, 'Saturday', 'April'], dtype=object)"
      ]
     },
     "execution_count": 72,
     "metadata": {},
     "output_type": "execute_result"
    }
   ],
   "source": [
    "newdf.values[0]"
   ]
  },
  {
   "cell_type": "code",
   "execution_count": null,
   "id": "7520028f-d200-462a-8d9e-9ef0c1dea9d2",
   "metadata": {},
   "outputs": [],
   "source": []
  }
 ],
 "metadata": {
  "kernelspec": {
   "display_name": "Python 3 (ipykernel)",
   "language": "python",
   "name": "python3"
  },
  "language_info": {
   "codemirror_mode": {
    "name": "ipython",
    "version": 3
   },
   "file_extension": ".py",
   "mimetype": "text/x-python",
   "name": "python",
   "nbconvert_exporter": "python",
   "pygments_lexer": "ipython3",
   "version": "3.10.10"
  }
 },
 "nbformat": 4,
 "nbformat_minor": 5
}
